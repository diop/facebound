{
 "cells": [
  {
   "cell_type": "code",
   "execution_count": null,
   "metadata": {},
   "outputs": [],
   "source": [
    "import pydeck as pdk\n",
    "print(pdk.__version__)\n",
    "\n",
    "# 2014 locations of car accidents in the UK\n",
    "UK_ACCIDENTS_DATA = ('https://raw.githubusercontent.com/uber-common/'\n",
    "                     'deck.gl-data/master/examples/3d-heatmap/heatmap-data.csv')\n",
    "\n",
    "# Define a layer to display on a map\n",
    "layer = pdk.Layer(\n",
    "    'HexagonLayer',\n",
    "    UK_ACCIDENTS_DATA,\n",
    "    get_position=['lng', 'lat'],\n",
    "    auto_highlight=True,\n",
    "    elevation_scale=50,\n",
    "    pickable=True,\n",
    "    elevation_range=[0, 3000],\n",
    "    extruded=True,                 \n",
    "    coverage=1)\n",
    "\n",
    "# Set the viewport location\n",
    "view_state = pdk.ViewState(\n",
    "    longitude=-1.415,\n",
    "    latitude=52.2323,\n",
    "    zoom=6,\n",
    "    min_zoom=5,\n",
    "    max_zoom=15,\n",
    "    pitch=40.5,\n",
    "    bearing=-27.36)\n",
    "\n",
    "# Render\n",
    "r = pdk.Deck(layers=[layer], initial_view_state=view_state)\n",
    "r.show()"
   ]
  },
  {
   "cell_type": "code",
   "execution_count": 2,
   "metadata": {},
   "outputs": [
    {
     "data": {
      "text/html": [
       "\n",
       "        <iframe\n",
       "            width=\"700\"\n",
       "            height=\"500\"\n",
       "            src=\"./pydeck6x90s640.html\"\n",
       "            frameborder=\"0\"\n",
       "            allowfullscreen\n",
       "        ></iframe>\n",
       "        "
      ],
      "text/plain": [
       "<IPython.lib.display.IFrame at 0x10a0f87d0>"
      ]
     },
     "metadata": {},
     "output_type": "display_data"
    },
    {
     "data": {
      "text/plain": [
       "'/Users/duberstein@uber.com/Desktop/deck.gl/bindings/pydeck/tests/dev-containers/pydeck6x90s640.html'"
      ]
     },
     "execution_count": 2,
     "metadata": {},
     "output_type": "execute_result"
    }
   ],
   "source": [
    "import pydeck\n",
    "\n",
    "\n",
    "pydeck.settings.custom_libraries = [\n",
    "    {\n",
    "        \"libraryName\": \"LabeledGeoJsonLayerLibrary\",\n",
    "        \"resourceUri\": \"https://unpkg.com/pydeck-custom-layer-demo@0.0.1/dist/bundle.js\",\n",
    "    }\n",
    "]\n",
    "\n",
    "DATA_URL = (\n",
    "    \"https://raw.githubusercontent.com/johan/world.geo.json/master/countries.geo.json\"\n",
    ")\n",
    "# See https://github.com/ajduberstein/pydeck_custom_layer for a minimal example layer\n",
    "\n",
    "custom_layer = pydeck.Layer(\n",
    "    \"LabeledGeoJsonLayer\",\n",
    "    data=DATA_URL,\n",
    "    filled=False,\n",
    "    billboard=False,\n",
    "    get_line_color=[180, 180, 180],\n",
    "    get_label=\"properties.name\",\n",
    "    get_label_size=200000,\n",
    "    get_label_color=[0, 64, 128],\n",
    "    label_size_units='\"meters\"',\n",
    "    line_width_min_pixels=1,\n",
    ")\n",
    "\n",
    "view_state = pydeck.ViewState(latitude=0, longitude=0, zoom=1, bearing=-45, pitch=60,)\n",
    "\n",
    "r = pydeck.Deck(\n",
    "    custom_layer,\n",
    "    initial_view_state=view_state,\n",
    "    map_style=\"\",\n",
    ")\n",
    "r.to_html()"
   ]
  }
 ],
 "metadata": {
  "kernelspec": {
   "display_name": "Python 3",
   "language": "python",
   "name": "python3"
  },
  "language_info": {
   "codemirror_mode": {
    "name": "ipython",
    "version": 3
   },
   "file_extension": ".py",
   "mimetype": "text/x-python",
   "name": "python",
   "nbconvert_exporter": "python",
   "pygments_lexer": "ipython3",
   "version": "3.7.7"
  }
 },
 "nbformat": 4,
 "nbformat_minor": 4
}
